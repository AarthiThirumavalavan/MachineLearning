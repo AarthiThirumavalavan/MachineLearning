{
 "cells": [
  {
   "cell_type": "code",
   "execution_count": 5,
   "id": "e2c59b26",
   "metadata": {},
   "outputs": [],
   "source": [
    "#Class with public variables\n",
    "class Car():\n",
    "    def __init__(self, windows, doors, enginetype):\n",
    "        self.windows = windows\n",
    "        self.doors = doors\n",
    "        self.enginetype = enginetype\n",
    "    \n",
    "    def drive(self):\n",
    "        print(\"The person drives the car\")"
   ]
  },
  {
   "cell_type": "code",
   "execution_count": 6,
   "id": "6920a748",
   "metadata": {},
   "outputs": [],
   "source": [
    "audi = Car(5, 5, \"Petrol\")"
   ]
  },
  {
   "cell_type": "code",
   "execution_count": 7,
   "id": "934a6c22",
   "metadata": {},
   "outputs": [
    {
     "data": {
      "text/plain": [
       "['__class__',\n",
       " '__delattr__',\n",
       " '__dict__',\n",
       " '__dir__',\n",
       " '__doc__',\n",
       " '__eq__',\n",
       " '__format__',\n",
       " '__ge__',\n",
       " '__getattribute__',\n",
       " '__gt__',\n",
       " '__hash__',\n",
       " '__init__',\n",
       " '__init_subclass__',\n",
       " '__le__',\n",
       " '__lt__',\n",
       " '__module__',\n",
       " '__ne__',\n",
       " '__new__',\n",
       " '__reduce__',\n",
       " '__reduce_ex__',\n",
       " '__repr__',\n",
       " '__setattr__',\n",
       " '__sizeof__',\n",
       " '__str__',\n",
       " '__subclasshook__',\n",
       " '__weakref__',\n",
       " 'doors',\n",
       " 'drive',\n",
       " 'enginetype',\n",
       " 'windows']"
      ]
     },
     "execution_count": 7,
     "metadata": {},
     "output_type": "execute_result"
    }
   ],
   "source": [
    "dir(audi)"
   ]
  },
  {
   "cell_type": "code",
   "execution_count": 4,
   "id": "21fbe809",
   "metadata": {},
   "outputs": [
    {
     "data": {
      "text/plain": [
       "5"
      ]
     },
     "execution_count": 4,
     "metadata": {},
     "output_type": "execute_result"
    }
   ],
   "source": [
    "audi.windows"
   ]
  },
  {
   "cell_type": "code",
   "execution_count": 8,
   "id": "6386011b",
   "metadata": {},
   "outputs": [],
   "source": [
    "class Audi(Car):\n",
    "    def __init__(self, windows, doors, enginetype, enableai):\n",
    "        super().__init__(windows, doors, enginetype)\n",
    "        self.enableai = enableai\n",
    "        \n",
    "    def selfdriving(self):\n",
    "        print(\"Audi has self driving facility\")"
   ]
  },
  {
   "cell_type": "code",
   "execution_count": 10,
   "id": "729256b7",
   "metadata": {},
   "outputs": [],
   "source": [
    "audiQ7 = Audi(3, 3, \"Diesel\", True)"
   ]
  },
  {
   "cell_type": "code",
   "execution_count": 11,
   "id": "6cea49ca",
   "metadata": {},
   "outputs": [
    {
     "data": {
      "text/plain": [
       "['__class__',\n",
       " '__delattr__',\n",
       " '__dict__',\n",
       " '__dir__',\n",
       " '__doc__',\n",
       " '__eq__',\n",
       " '__format__',\n",
       " '__ge__',\n",
       " '__getattribute__',\n",
       " '__gt__',\n",
       " '__hash__',\n",
       " '__init__',\n",
       " '__init_subclass__',\n",
       " '__le__',\n",
       " '__lt__',\n",
       " '__module__',\n",
       " '__ne__',\n",
       " '__new__',\n",
       " '__reduce__',\n",
       " '__reduce_ex__',\n",
       " '__repr__',\n",
       " '__setattr__',\n",
       " '__sizeof__',\n",
       " '__str__',\n",
       " '__subclasshook__',\n",
       " '__weakref__',\n",
       " 'doors',\n",
       " 'drive',\n",
       " 'enableai',\n",
       " 'enginetype',\n",
       " 'selfdriving',\n",
       " 'windows']"
      ]
     },
     "execution_count": 11,
     "metadata": {},
     "output_type": "execute_result"
    }
   ],
   "source": [
    "dir(audiQ7)"
   ]
  },
  {
   "cell_type": "code",
   "execution_count": 12,
   "id": "d9c0ef5e",
   "metadata": {},
   "outputs": [
    {
     "name": "stdout",
     "output_type": "stream",
     "text": [
      "Audi has self driving facility\n"
     ]
    }
   ],
   "source": [
    "audiQ7.selfdriving()"
   ]
  },
  {
   "cell_type": "code",
   "execution_count": 13,
   "id": "ccefac15",
   "metadata": {},
   "outputs": [
    {
     "name": "stdout",
     "output_type": "stream",
     "text": [
      "The person drives the car\n"
     ]
    }
   ],
   "source": [
    "audiQ7.drive()"
   ]
  },
  {
   "cell_type": "code",
   "execution_count": 19,
   "id": "40012a48",
   "metadata": {},
   "outputs": [],
   "source": [
    "#Protected variables\n",
    "class Car():\n",
    "    def __init__(self, windows, doors, enginetype):\n",
    "        self._windows = windows\n",
    "        self._doors = doors\n",
    "        self._enginetype = enginetype\n",
    "    \n",
    "    def drive(self):\n",
    "        print(\"The person drives the car\")\n",
    "        \n",
    "class Truck(Car):\n",
    "    def __init__(self, windows, doors, enginetype, horsepower):\n",
    "        super().__init__(windows, doors, enginetype)\n",
    "        self.horsepower = horsepower"
   ]
  },
  {
   "cell_type": "code",
   "execution_count": 20,
   "id": "95299c28",
   "metadata": {},
   "outputs": [],
   "source": [
    "truck = Truck(2, 2, \"Petrol\", 8000)"
   ]
  },
  {
   "cell_type": "raw",
   "id": "343ecf5e",
   "metadata": {},
   "source": [
    "truck._windows"
   ]
  },
  {
   "cell_type": "code",
   "execution_count": 22,
   "id": "f3114532",
   "metadata": {},
   "outputs": [
    {
     "data": {
      "text/plain": [
       "['__class__',\n",
       " '__delattr__',\n",
       " '__dict__',\n",
       " '__dir__',\n",
       " '__doc__',\n",
       " '__eq__',\n",
       " '__format__',\n",
       " '__ge__',\n",
       " '__getattribute__',\n",
       " '__gt__',\n",
       " '__hash__',\n",
       " '__init__',\n",
       " '__init_subclass__',\n",
       " '__le__',\n",
       " '__lt__',\n",
       " '__module__',\n",
       " '__ne__',\n",
       " '__new__',\n",
       " '__reduce__',\n",
       " '__reduce_ex__',\n",
       " '__repr__',\n",
       " '__setattr__',\n",
       " '__sizeof__',\n",
       " '__str__',\n",
       " '__subclasshook__',\n",
       " '__weakref__',\n",
       " '_doors',\n",
       " '_enginetype',\n",
       " '_windows',\n",
       " 'drive',\n",
       " 'horsepower']"
      ]
     },
     "execution_count": 22,
     "metadata": {},
     "output_type": "execute_result"
    }
   ],
   "source": [
    "dir(truck)"
   ]
  },
  {
   "cell_type": "code",
   "execution_count": 23,
   "id": "567f63cf",
   "metadata": {},
   "outputs": [],
   "source": [
    "truck._doors = 5"
   ]
  },
  {
   "cell_type": "code",
   "execution_count": 24,
   "id": "9f5dcd6a",
   "metadata": {},
   "outputs": [
    {
     "data": {
      "text/plain": [
       "5"
      ]
     },
     "execution_count": 24,
     "metadata": {},
     "output_type": "execute_result"
    }
   ],
   "source": [
    "truck._doors"
   ]
  },
  {
   "cell_type": "code",
   "execution_count": 25,
   "id": "e9f71f51",
   "metadata": {},
   "outputs": [],
   "source": [
    "#Private variables\n",
    "class Car():\n",
    "    def __init__(self, windows, doors, enginetype):\n",
    "        self.__windows = windows\n",
    "        self.__doors = doors\n",
    "        self.__enginetype = enginetype\n",
    "    \n",
    "    def drive(self):\n",
    "        print(\"The person drives the car\")\n",
    "        \n",
    "class Truck(Car):\n",
    "    def __init__(self, windows, doors, enginetype, horsepower):\n",
    "        super().__init__(windows, doors, enginetype)\n",
    "        self.horsepower = horsepower"
   ]
  },
  {
   "cell_type": "code",
   "execution_count": 26,
   "id": "16b6014f",
   "metadata": {},
   "outputs": [],
   "source": [
    "truck1 = Truck(9, 9, \"Diesel\", 9876)"
   ]
  },
  {
   "cell_type": "code",
   "execution_count": 28,
   "id": "06bfd03b",
   "metadata": {},
   "outputs": [
    {
     "data": {
      "text/plain": [
       "9"
      ]
     },
     "execution_count": 28,
     "metadata": {},
     "output_type": "execute_result"
    }
   ],
   "source": [
    "truck1._Car__windows"
   ]
  },
  {
   "cell_type": "raw",
   "id": "432351db",
   "metadata": {},
   "source": [
    "truck1._Car__"
   ]
  }
 ],
 "metadata": {
  "kernelspec": {
   "display_name": "Python 3 (ipykernel)",
   "language": "python",
   "name": "python3"
  },
  "language_info": {
   "codemirror_mode": {
    "name": "ipython",
    "version": 3
   },
   "file_extension": ".py",
   "mimetype": "text/x-python",
   "name": "python",
   "nbconvert_exporter": "python",
   "pygments_lexer": "ipython3",
   "version": "3.9.12"
  }
 },
 "nbformat": 4,
 "nbformat_minor": 5
}
